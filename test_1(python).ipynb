{
 "cells": [
  {
   "cell_type": "code",
   "execution_count": null,
   "id": "8019c971-b3c7-4de7-80b8-5f6429d76376",
   "metadata": {},
   "outputs": [],
   "source": [
    "# Jupyter Notebook for Python Basics Practice\n",
    "\n",
    "## Multiple-Choice Questions (MCQs)\n",
    "\n",
    "### Question 1\n",
    "# What is the output of the following code?\n",
    "# print(type(5.0))\n",
    "# a) int\n",
    "# b) float\n",
    "# c) str\n",
    "# d) list\n",
    "\n",
    "### Question 2\n",
    "# What is the correct syntax to output \"Hello World\" in Python?\n",
    "# a) echo \"Hello World\"\n",
    "# b) print(\"Hello World\")\n",
    "# c) printf(\"Hello World\")\n",
    "# d) System.out.println(\"Hello World\")\n",
    "\n",
    "### Question 3\n",
    "# Which of the following is a correct variable declaration in Python?\n",
    "# a) var x = 10\n",
    "# b) int x = 10\n",
    "# c) x = 10\n",
    "# d) declare x = 10\n",
    "\n",
    "### Question 4\n",
    "# What is the output of the following code?\n",
    "# print(2 ** 3)\n",
    "# a) 6\n",
    "# b) 8\n",
    "# c) 9\n",
    "# d) 12\n",
    "\n",
    "### Question 5\n",
    "# Which of the following is used to define a block of code in Python?\n",
    "# a) Curly braces\n",
    "# b) Parentheses\n",
    "# c) Indentation\n",
    "# d) Quotation marks\n",
    "\n",
    "### Question 6\n",
    "# How do you start a comment in Python?\n",
    "# a) //\n",
    "# b) /*\n",
    "# c) <!--\n",
    "# d) #\n",
    "\n",
    "### Question 7\n",
    "# What is the output of the following code?\n",
    "# print(\"Hello\" + \" \" + \"World\")\n",
    "# a) Hello World\n",
    "# b) HelloWorld\n",
    "# c) Hello+World\n",
    "# d) Error\n",
    "\n",
    "### Question 8\n",
    "# Which of the following is the correct way to create a list in Python?\n",
    "# a) list = [1, 2, 3]\n",
    "# b) list = (1, 2, 3)\n",
    "# c) list = {1, 2, 3}\n",
    "# d) list = 1, 2, 3\n",
    "\n",
    "### Question 9\n",
    "# What is the output of the following code?\n",
    "# a = [1, 2, 3]\n",
    "# print(len(a))\n",
    "# a) 2\n",
    "# b) 3\n",
    "# c) 4\n",
    "# d) Error\n",
    "\n",
    "### Question 10\n",
    "# Which of the following statements is true?\n",
    "# a) A tuple is mutable\n",
    "# b) A list is immutable\n",
    "# c) A tuple is immutable\n",
    "# d) A list is immutable and a tuple is mutable\n",
    "\n",
    "### Question 11\n",
    "# What will be the output of the following code?\n",
    "# x = 10\n",
    "# if x > 5:\n",
    "#     print(\"Greater\")\n",
    "# else:\n",
    "#     print(\"Smaller\")\n",
    "# a) Greater\n",
    "# b) Smaller\n",
    "# c) Error\n",
    "# d) None of the above\n",
    "\n",
    "### Question 12\n",
    "# How do you create a dictionary in Python?\n",
    "# a) dict = [1, 2, 3]\n",
    "# b) dict = {1, 2, 3}\n",
    "# c) dict = {\"one\": 1, \"two\": 2, \"three\": 3}\n",
    "# d) dict = (1, 2, 3)\n",
    "\n",
    "### Question 13\n",
    "# What is the output of the following code?\n",
    "# x = [1, 2, 3, 4]\n",
    "# print(x[1:3])\n",
    "# a) [1, 2]\n",
    "# b) [2, 3]\n",
    "# c) [3, 4]\n",
    "# d) [2, 3, 4]\n",
    "\n",
    "### Question 14\n",
    "# Which of the following methods can be used to add an element to a list?\n",
    "# a) append()\n",
    "# b) add()\n",
    "# c) insert()\n",
    "# d) extend()\n",
    "\n",
    "### Question 15\n",
    "# What is the correct way to handle exceptions in Python?\n",
    "# a) try-except\n",
    "# b) try-catch\n",
    "# c) do-except\n",
    "# d) do-catch\n",
    "\n",
    "---\n",
    "\n",
    "## Practice Questions\n",
    "\n",
    "### Question 1\n",
    "# Write a Python program to check if a number is even or odd.\n",
    "\n",
    "number = int(input(\"Enter a number: \"))\n",
    "if number % 2 == 0:\n",
    "    print(f\"{number} is even.\")\n",
    "else:\n",
    "    print(f\"{number} is odd.\")\n",
    "\n",
    "### Question 2\n",
    "# Write a Python program to find the factorial of a given number using a loop.\n",
    "\n",
    "def factorial(n):\n",
    "    result = 1\n",
    "    for i in range(1, n + 1):\n",
    "        result *= i\n",
    "    return result\n",
    "\n",
    "number = int(input(\"Enter a number: \"))\n",
    "print(f\"Factorial of {number} is {factorial(number)}.\")\n",
    "\n",
    "### Question 3\n",
    "# Write a Python program to create a list of the first 10 natural numbers and then print each number.\n",
    "\n",
    "natural_numbers = list(range(1, 11))\n",
    "for number in natural_numbers:\n",
    "    print(number)\n",
    "\n",
    "### Question 4\n",
    "# Write a Python program to calculate the sum of all numbers in a list.\n",
    "\n",
    "numbers = [1, 2, 3, 4, 5]\n",
    "print(f\"Sum of the list is {sum(numbers)}.\")\n",
    "\n",
    "### Question 5\n",
    "# Write a Python program to reverse a string.\n",
    "\n",
    "string = input(\"Enter a string: \")\n",
    "reversed_string = string[::-1]\n",
    "print(f\"Reversed string is: {reversed_string}\")\n",
    "\n",
    "### Question 6\n",
    "# Write a Python program to find the largest number in a list.\n",
    "\n",
    "numbers = [1, 2, 3, 4, 5]\n",
    "print(f\"Largest number in the list is {max(numbers)}.\")\n",
    "\n",
    "### Question 7\n",
    "# Write a Python program to print the multiplication table of any number provided by the user.\n",
    "\n",
    "number = int(input(\"Enter a number: \"))\n",
    "for i in range(1, 11):\n",
    "    print(f\"{number} x {i} = {number * i}\")\n",
    "\n",
    "### Question 8\n",
    "# Write a Python program to count the number of vowels in a string.\n",
    "\n",
    "vowels = \"aeiouAEIOU\"\n",
    "string = input(\"Enter a string: \")\n",
    "count = sum(1 for char in string if char in vowels)\n",
    "print(f\"Number of vowels in the string is: {count}\")\n",
    "\n",
    "### Question 9\n",
    "# Write a Python program to convert a list of tuples into a dictionary.\n",
    "\n",
    "tuples = [(\"one\", 1), (\"two\", 2), (\"three\", 3)]\n",
    "dictionary = dict(tuples)\n",
    "print(f\"Converted dictionary: {dictionary}\")\n",
    "\n",
    "### Question 10\n",
    "# Write a Python program to check if a given string is a palindrome.\n",
    "\n",
    "string = input(\"Enter a string: \")\n",
    "is_palindrome = string == string[::-1]\n",
    "print(f\"The string is a palindrome: {is_palindrome}\")\n"
   ]
  },
  {
   "cell_type": "code",
   "execution_count": null,
   "id": "f87f0cd6-10e5-43d9-aa0f-ac44f1880427",
   "metadata": {},
   "outputs": [],
   "source": [
    "1. b"
   ]
  },
  {
   "cell_type": "code",
   "execution_count": null,
   "id": "b65847e4-f05d-4eee-a186-eb801a0c9d8f",
   "metadata": {},
   "outputs": [],
   "source": [
    "2. b"
   ]
  },
  {
   "cell_type": "code",
   "execution_count": null,
   "id": "e40a96f9-72e1-437d-8e2b-b9360040a277",
   "metadata": {},
   "outputs": [],
   "source": [
    "3. c"
   ]
  },
  {
   "cell_type": "code",
   "execution_count": null,
   "id": "cb93b572-fc58-45f3-b16c-c25194a6ee5f",
   "metadata": {},
   "outputs": [],
   "source": [
    "4. b"
   ]
  },
  {
   "cell_type": "code",
   "execution_count": null,
   "id": "f5e00f97-195e-42c5-aee3-8e7d5e430cc9",
   "metadata": {},
   "outputs": [],
   "source": [
    "5. a"
   ]
  },
  {
   "cell_type": "code",
   "execution_count": null,
   "id": "4329d690-7d0c-432a-a9b8-fafa218c7526",
   "metadata": {},
   "outputs": [],
   "source": [
    "6. d"
   ]
  },
  {
   "cell_type": "code",
   "execution_count": null,
   "id": "8d4325f9-d3d3-485e-8468-460ca97740d4",
   "metadata": {},
   "outputs": [],
   "source": [
    "7. a"
   ]
  },
  {
   "cell_type": "code",
   "execution_count": null,
   "id": "660fe550-6961-4fb4-a22d-19fcdb1a5fa1",
   "metadata": {},
   "outputs": [],
   "source": [
    "8. a"
   ]
  },
  {
   "cell_type": "code",
   "execution_count": null,
   "id": "f55e2885-6f89-4cd6-9fcc-8d69ed9cf981",
   "metadata": {},
   "outputs": [],
   "source": [
    "9. b\n"
   ]
  },
  {
   "cell_type": "code",
   "execution_count": null,
   "id": "9337a2eb-7d57-47a6-9c09-4b410091588e",
   "metadata": {},
   "outputs": [],
   "source": [
    "10. a"
   ]
  },
  {
   "cell_type": "code",
   "execution_count": null,
   "id": "6f32e6d1-5d78-48c7-960b-39fe15830e5a",
   "metadata": {},
   "outputs": [],
   "source": [
    "11. a"
   ]
  },
  {
   "cell_type": "code",
   "execution_count": null,
   "id": "ed9ee054-f93d-46df-bb04-bb5b613336a3",
   "metadata": {},
   "outputs": [],
   "source": [
    "12. c"
   ]
  },
  {
   "cell_type": "code",
   "execution_count": null,
   "id": "816819a7-2fe0-47dc-a0d1-44fdb25e0ef2",
   "metadata": {},
   "outputs": [],
   "source": [
    "13. b"
   ]
  },
  {
   "cell_type": "code",
   "execution_count": null,
   "id": "811c145d-995b-4d5b-8c23-16e892631c7d",
   "metadata": {},
   "outputs": [],
   "source": [
    "14. a"
   ]
  },
  {
   "cell_type": "code",
   "execution_count": null,
   "id": "b7a72b95-5f44-4819-bcc0-a6fe619d20ca",
   "metadata": {},
   "outputs": [],
   "source": [
    "15. a"
   ]
  },
  {
   "cell_type": "code",
   "execution_count": 1,
   "id": "c30bd488-f111-486f-9c53-d67879ae669b",
   "metadata": {},
   "outputs": [],
   "source": [
    " # questions\n"
   ]
  },
  {
   "cell_type": "code",
   "execution_count": 9,
   "id": "26e6ed47-0b02-4217-9b48-44016bf32681",
   "metadata": {},
   "outputs": [
    {
     "name": "stdin",
     "output_type": "stream",
     "text": [
      "Enter a number:  2\n"
     ]
    },
    {
     "name": "stdout",
     "output_type": "stream",
     "text": [
      "2 is even.\n"
     ]
    }
   ],
   "source": [
    "number = int(input(\"Enter a number: \"))\n",
    "if number % 2 == 0:\n",
    "    print(f\"{number} is even.\")\n",
    "else:\n",
    "    print(f\"{number} is odd.\")\n"
   ]
  },
  {
   "cell_type": "code",
   "execution_count": 11,
   "id": "38f2b5ff-7430-4ec6-a7f0-3359e252fed1",
   "metadata": {},
   "outputs": [
    {
     "name": "stdin",
     "output_type": "stream",
     "text": [
      "Enter a number:  10\n"
     ]
    },
    {
     "name": "stdout",
     "output_type": "stream",
     "text": [
      "Factorial of 10 is 3628800.\n"
     ]
    }
   ],
   "source": [
    "def factorial(n):\n",
    "    result = 1\n",
    "    for i in range(1, n + 1):\n",
    "        result *= i\n",
    "    return result\n",
    "\n",
    "number = int(input(\"Enter a number: \"))\n",
    "print(f\"Factorial of {number} is {factorial(number)}.\")\n"
   ]
  },
  {
   "cell_type": "code",
   "execution_count": 3,
   "id": "807b47c4-d751-44bc-afb2-36c161dab664",
   "metadata": {},
   "outputs": [
    {
     "name": "stdout",
     "output_type": "stream",
     "text": [
      "1\n",
      "2\n",
      "3\n",
      "4\n",
      "5\n",
      "6\n",
      "7\n",
      "8\n",
      "9\n",
      "10\n"
     ]
    }
   ],
   "source": [
    "natural_numbers = list(range(1, 11))\n",
    "for number in natural_numbers:\n",
    "    print(number)"
   ]
  },
  {
   "cell_type": "code",
   "execution_count": 17,
   "id": "a0c19ba6-fd07-4409-bf5d-1d2a19a89116",
   "metadata": {},
   "outputs": [
    {
     "name": "stdout",
     "output_type": "stream",
     "text": [
      "Sum of the list is 15.\n"
     ]
    }
   ],
   "source": [
    "numbers = [1, 2, 3, 4, 5]\n",
    "print(f\"Sum of the list is {sum(numbers)}.\")\n"
   ]
  },
  {
   "cell_type": "code",
   "execution_count": null,
   "id": "725c4f88-7d08-471f-8e0a-f95e25543381",
   "metadata": {},
   "outputs": [],
   "source": [
    "string = input(\"Enter a string: \")\n",
    "reversed_string = string[::-1]\n",
    "print(f\"Reversed string is: {reversed_string}\")\n"
   ]
  },
  {
   "cell_type": "code",
   "execution_count": 1,
   "id": "406d6ccd-7960-405b-b529-e7a40f14945c",
   "metadata": {},
   "outputs": [
    {
     "name": "stdout",
     "output_type": "stream",
     "text": [
      "Largest number in the list is 5.\n"
     ]
    }
   ],
   "source": [
    "numbers = [1, 2, 3, 4, 5]\n",
    "print(f\"Largest number in the list is {max(numbers)}.\")"
   ]
  },
  {
   "cell_type": "code",
   "execution_count": null,
   "id": "17680232-7493-453c-b4a6-fa07527b41a7",
   "metadata": {},
   "outputs": [],
   "source": [
    "number = int(input(\"Enter a number: \"))\n",
    "for i in range(1, 11):\n",
    "    print(f\"{number} x {i} = {number * i}\")\n"
   ]
  },
  {
   "cell_type": "code",
   "execution_count": null,
   "id": "b341b3ae-2bef-4d11-b8ff-cd73258a5249",
   "metadata": {},
   "outputs": [],
   "source": [
    "vowels = \"aeiouAEIOU\"\n",
    "string = input(\"Enter a string: \")\n",
    "count = sum(1 for char in string if char in vowels)\n",
    "print(f\"Number of vowels in the string is: {count}\")"
   ]
  },
  {
   "cell_type": "code",
   "execution_count": 1,
   "id": "59d4bae4-d035-446c-9e8d-99f38f5ab114",
   "metadata": {},
   "outputs": [
    {
     "name": "stdout",
     "output_type": "stream",
     "text": [
      "Converted dictionary: {'one': 1, 'two': 2, 'three': 3}\n"
     ]
    }
   ],
   "source": [
    "tuples = [(\"one\", 1), (\"two\", 2), (\"three\", 3)]\n",
    "dictionary = dict(tuples)\n",
    "print(f\"Converted dictionary: {dictionary}\")"
   ]
  },
  {
   "cell_type": "code",
   "execution_count": null,
   "id": "99a453dc-67d3-4a49-bea7-2f2d99967374",
   "metadata": {},
   "outputs": [],
   "source": [
    "string = input(\"Enter a string: \")\n",
    "is_palindrome = string == string[::-1]\n",
    "print(f\"The string is a palindrome: {is_palindrome}\")"
   ]
  }
 ],
 "metadata": {
  "kernelspec": {
   "display_name": "Python 3 (ipykernel)",
   "language": "python",
   "name": "python3"
  },
  "language_info": {
   "codemirror_mode": {
    "name": "ipython",
    "version": 3
   },
   "file_extension": ".py",
   "mimetype": "text/x-python",
   "name": "python",
   "nbconvert_exporter": "python",
   "pygments_lexer": "ipython3",
   "version": "3.11.7"
  },
  "widgets": {
   "application/vnd.jupyter.widget-state+json": {
    "state": {},
    "version_major": 2,
    "version_minor": 0
   }
  }
 },
 "nbformat": 4,
 "nbformat_minor": 5
}
